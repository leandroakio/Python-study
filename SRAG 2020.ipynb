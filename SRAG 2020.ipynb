{
 "cells": [
  {
   "cell_type": "markdown",
   "metadata": {},
   "source": [
    "##Análise exploratória dos dados de Síndrome Respiratória Aguda de 2020##\n",
    "##Fonte de dados Open DATASUS link https://opendatasus.saude.gov.br/dataset/bd-srag-2020/resource/8f571374-c555-4ec0-8e44-00b1e8b11c25 ##"
   ]
  },
  {
   "cell_type": "code",
   "execution_count": 15,
   "metadata": {},
   "outputs": [
    {
     "data": {
      "text/html": [
       "<div>\n",
       "<style scoped>\n",
       "    .dataframe tbody tr th:only-of-type {\n",
       "        vertical-align: middle;\n",
       "    }\n",
       "\n",
       "    .dataframe tbody tr th {\n",
       "        vertical-align: top;\n",
       "    }\n",
       "\n",
       "    .dataframe thead th {\n",
       "        text-align: right;\n",
       "    }\n",
       "</style>\n",
       "<table border=\"1\" class=\"dataframe\">\n",
       "  <thead>\n",
       "    <tr style=\"text-align: right;\">\n",
       "      <th></th>\n",
       "      <th>DT_NOTIFIC</th>\n",
       "      <th>SG_UF_NOT</th>\n",
       "      <th>ID_MUNICIP</th>\n",
       "      <th>CS_SEXO</th>\n",
       "      <th>NU_IDADE_N</th>\n",
       "      <th>CLASSI_FIN</th>\n",
       "      <th>EVOLUCAO</th>\n",
       "    </tr>\n",
       "  </thead>\n",
       "  <tbody>\n",
       "    <tr>\n",
       "      <th>0</th>\n",
       "      <td>11/02/2020</td>\n",
       "      <td>MS</td>\n",
       "      <td>CAMPO GRANDE</td>\n",
       "      <td>F</td>\n",
       "      <td>53</td>\n",
       "      <td>4.0</td>\n",
       "      <td>1.0</td>\n",
       "    </tr>\n",
       "    <tr>\n",
       "      <th>1</th>\n",
       "      <td>27/02/2020</td>\n",
       "      <td>MA</td>\n",
       "      <td>SAO LUIS</td>\n",
       "      <td>M</td>\n",
       "      <td>49</td>\n",
       "      <td>NaN</td>\n",
       "      <td>NaN</td>\n",
       "    </tr>\n",
       "    <tr>\n",
       "      <th>2</th>\n",
       "      <td>06/02/2020</td>\n",
       "      <td>AM</td>\n",
       "      <td>MANAUS</td>\n",
       "      <td>F</td>\n",
       "      <td>91</td>\n",
       "      <td>2.0</td>\n",
       "      <td>2.0</td>\n",
       "    </tr>\n",
       "    <tr>\n",
       "      <th>3</th>\n",
       "      <td>16/03/2020</td>\n",
       "      <td>RJ</td>\n",
       "      <td>RIO DE JANEIRO</td>\n",
       "      <td>F</td>\n",
       "      <td>66</td>\n",
       "      <td>4.0</td>\n",
       "      <td>1.0</td>\n",
       "    </tr>\n",
       "    <tr>\n",
       "      <th>4</th>\n",
       "      <td>26/03/2020</td>\n",
       "      <td>BA</td>\n",
       "      <td>JUAZEIRO</td>\n",
       "      <td>M</td>\n",
       "      <td>1</td>\n",
       "      <td>1.0</td>\n",
       "      <td>9.0</td>\n",
       "    </tr>\n",
       "  </tbody>\n",
       "</table>\n",
       "</div>"
      ],
      "text/plain": [
       "   DT_NOTIFIC SG_UF_NOT      ID_MUNICIP CS_SEXO  NU_IDADE_N  CLASSI_FIN  \\\n",
       "0  11/02/2020        MS    CAMPO GRANDE       F          53         4.0   \n",
       "1  27/02/2020        MA        SAO LUIS       M          49         NaN   \n",
       "2  06/02/2020        AM          MANAUS       F          91         2.0   \n",
       "3  16/03/2020        RJ  RIO DE JANEIRO       F          66         4.0   \n",
       "4  26/03/2020        BA        JUAZEIRO       M           1         1.0   \n",
       "\n",
       "   EVOLUCAO  \n",
       "0       1.0  \n",
       "1       NaN  \n",
       "2       2.0  \n",
       "3       1.0  \n",
       "4       9.0  "
      ]
     },
     "execution_count": 15,
     "metadata": {},
     "output_type": "execute_result"
    }
   ],
   "source": [
    "#Importando as bibliotecas para a análise#\n",
    "import pandas as pd\n",
    "import seaborn as sns\n",
    "import matplotlib\n",
    "import matplotlib.pyplot as plt\n",
    "import numpy as np\n",
    "\n",
    "#Importando arquivo CSV\n",
    "df = pd.read_csv('INFLUD.csv', delimiter = ';', usecols = [0,4,7,11,13,107,110])\n",
    "df.head()"
   ]
  },
  {
   "cell_type": "code",
   "execution_count": 20,
   "metadata": {},
   "outputs": [
    {
     "data": {
      "text/plain": [
       "DT_NOTIFIC     object\n",
       "SG_UF_NOT      object\n",
       "ID_MUNICIP     object\n",
       "CS_SEXO        object\n",
       "NU_IDADE_N      int64\n",
       "CLASSI_FIN    float64\n",
       "EVOLUCAO      float64\n",
       "dtype: object"
      ]
     },
     "execution_count": 20,
     "metadata": {},
     "output_type": "execute_result"
    }
   ],
   "source": [
    "df.dtypes\n",
    "#df['SG_UF_NOT'].unique()"
   ]
  },
  {
   "cell_type": "code",
   "execution_count": null,
   "metadata": {},
   "outputs": [],
   "source": []
  }
 ],
 "metadata": {
  "kernelspec": {
   "display_name": "Python 3",
   "language": "python",
   "name": "python3"
  },
  "language_info": {
   "codemirror_mode": {
    "name": "ipython",
    "version": 3
   },
   "file_extension": ".py",
   "mimetype": "text/x-python",
   "name": "python",
   "nbconvert_exporter": "python",
   "pygments_lexer": "ipython3",
   "version": "3.8.3"
  }
 },
 "nbformat": 4,
 "nbformat_minor": 4
}
